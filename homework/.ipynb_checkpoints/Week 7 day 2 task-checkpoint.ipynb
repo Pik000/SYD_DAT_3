{
 "cells": [
  {
   "cell_type": "markdown",
   "metadata": {},
   "source": [
    "Week 7 Day 2\n",
    "\n",
    "Review of Chaper 10: Web Data\n",
    "\n",
    "Web Systems brings new challenges including high scale, data heterogeneity, and a complex and evolving set of user interaction modes when trying to categluge the data.\n",
    "\n",
    "Old Search Engines, eg Yahoo, used humans to help categorise the data, with the scale that the web was growing it was hard to keep up and very inefficent. So new Seach engines eg google used automatition.\n",
    "\n",
    "The main take out of the whole chaper is that web data is inherantly messy and they need to account for that. A search engine needed to be able to have fault tolerance.\n",
    "Also comercial serives were not up to the task but it would be interesting to see how redshift or Azure SQL could cope with the databases needed for a search engine. e.g., Informix was 10x slower than Inktomi’s custom solution). However, he notes that the principles of database system design, including “top-down” design, data independence, and a declarative query engine, are valuable in this context—if appropriately adapted."
   ]
  }
 ],
 "metadata": {
  "kernelspec": {
   "display_name": "Python 2",
   "language": "python",
   "name": "python2"
  },
  "language_info": {
   "codemirror_mode": {
    "name": "ipython",
    "version": 2
   },
   "file_extension": ".py",
   "mimetype": "text/x-python",
   "name": "python",
   "nbconvert_exporter": "python",
   "pygments_lexer": "ipython2",
   "version": "2.7.10"
  }
 },
 "nbformat": 4,
 "nbformat_minor": 0
}
