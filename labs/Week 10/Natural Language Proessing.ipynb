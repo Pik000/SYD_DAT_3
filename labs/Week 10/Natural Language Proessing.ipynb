{
 "cells": [
  {
   "cell_type": "markdown",
   "metadata": {},
   "source": [
    "# Introduction to Data Science with Python \n",
    "## General Assembly - 22nd February 2016 Day 1##\n",
    "## Natural Language Processing (NLP)\n",
    "\n",
    "This notebook contains exercises for getting started with Natual Language Processing in Python. The main topics we will cover in this class are:\n",
    "1. Tokenizing\n",
    "2. Stemming\n",
    "3. Speech Tagging\n",
    "4. Named Entity Recognition\n",
    "5. Term Frequency - Inverse Document Frequency\n",
    "6. Latent Dirichlet Allocation\n",
    "\n",
    "Other:\n",
    "- Analysing data with the Alchemy API\n",
    "- Further Reading"
   ]
  },
  {
   "cell_type": "code",
   "execution_count": 5,
   "metadata": {
    "collapsed": false
   },
   "outputs": [],
   "source": [
    "import nltk\n",
    "#nltk.download()"
   ]
  },
  {
   "cell_type": "markdown",
   "metadata": {},
   "source": [
    "###Tokenization\n",
    "\n",
    "What:  Separate text into units such as sentences or words\n",
    "\n",
    "Why:   Gives structure to previously unstructured text\n",
    "\n",
    "Notes: Relatively easy with English language text, not easy with some languages\n",
    "\n",
    "\n",
    "\"corpus\" = collection of documents\n",
    "\n",
    "\"corpora\" = plural form of corpus\n"
   ]
  },
  {
   "cell_type": "code",
   "execution_count": 6,
   "metadata": {
    "collapsed": false
   },
   "outputs": [
    {
     "data": {
      "text/plain": [
       "u'Data Science is an interdisciplinary field about processes and systems to extract knowledge or insights from data in various forms, either structured or unstructured,[1][2] which is a continuation of some of the data analysis fields such as statistics, data mining, and predictive analytics, similar to Knowledge Discovery in Databases (KDD).   Data science employs techniques and theories drawn from many fields within the broad areas of mathematics, statistics, information science, and computer sc'"
      ]
     },
     "execution_count": 6,
     "metadata": {},
     "output_type": "execute_result"
    }
   ],
   "source": [
    "import requests\n",
    "from bs4 import BeautifulSoup\n",
    "\n",
    "r = requests.get(\"http://en.wikipedia.org/wiki/Data_science\")\n",
    "b = BeautifulSoup(r.text)\n",
    "paragraphs = b.find(\"body\").findAll(\"p\")\n",
    "text = \"\"\n",
    "for paragraph in paragraphs:\n",
    "    text += paragraph.text + \" \"\n",
    "# Data Science corpus\n",
    "text[:500]"
   ]
  },
  {
   "cell_type": "code",
   "execution_count": 7,
   "metadata": {
    "collapsed": false
   },
   "outputs": [
    {
     "data": {
      "text/plain": [
       "[u'Data Science is an interdisciplinary field about processes and systems to extract knowledge or insights from data in various forms, either structured or unstructured,[1][2] which is a continuation of some of the data analysis fields such as statistics, data mining, and predictive analytics, similar to Knowledge Discovery in Databases (KDD).',\n",
       " u'Data science employs techniques and theories drawn from many fields within the broad areas of mathematics, statistics, information science, and computer science, including signal processing, probability models, machine learning, statistical learning, data mining, database, data engineering, pattern recognition and learning, visualization, predictive analytics, uncertainty modeling, data warehousing, data compression, computer programming, artificial intelligence, and high performance computing.',\n",
       " u'Methods that scale to big data are of particular interest in data science, although the discipline is not generally considered to be restricted to such big data, and big data solutions are often focused on organizing and preprocessing the data instead of analysis.',\n",
       " u'The development of machine learning has enhanced the growth and importance of data science.',\n",
       " u'Data science affects academic and applied research in many domains, including machine translation, speech recognition, robotics, search engines, digital economy, but also the biological sciences, medical informatics, health care, social sciences and the humanities.',\n",
       " u'It heavily influences economics, business and finance.',\n",
       " u'From the business perspective, data science is an integral part of competitive intelligence, a newly emerging field that encompasses a number of activities, such as data mining and data analysis.',\n",
       " u'[3] Data scientists use their data and analytical ability to find and interpret rich data sources; manage large amounts of data despite hardware, software, and bandwidth constraints; merge data sources; ensure consistency of datasets; create visualizations to aid in understanding data; build mathematical models using the data; and present and communicate the data insights/findings.',\n",
       " u'They are often expected to produce answers in days rather than months, work by exploratory analysis and rapid iteration, and to get/present results with dashboards (displays of current values) rather than papers/reports, as statisticians normally do.',\n",
       " u'[4] \"Data Scientist\" has become a popular occupation with Harvard Business Review dubbing it \"The Sexiest Job of the 21st Century\" [5] and McKinsey & Company projecting a global excess demand of 1.5 million new data scientists.']"
      ]
     },
     "execution_count": 7,
     "metadata": {},
     "output_type": "execute_result"
    }
   ],
   "source": [
    "# tokenize into sentences\n",
    "sentences = [sent for sent in nltk.sent_tokenize(text)]\n",
    "sentences[:10]\n"
   ]
  },
  {
   "cell_type": "code",
   "execution_count": 8,
   "metadata": {
    "collapsed": false
   },
   "outputs": [
    {
     "data": {
      "text/plain": [
       "[u'Data',\n",
       " u'Science',\n",
       " u'is',\n",
       " u'an',\n",
       " u'interdisciplinary',\n",
       " u'field',\n",
       " u'about',\n",
       " u'processes',\n",
       " u'and',\n",
       " u'systems',\n",
       " u'to',\n",
       " u'extract',\n",
       " u'knowledge',\n",
       " u'or',\n",
       " u'insights',\n",
       " u'from',\n",
       " u'data',\n",
       " u'in',\n",
       " u'various',\n",
       " u'forms',\n",
       " u',',\n",
       " u'either',\n",
       " u'structured',\n",
       " u'or',\n",
       " u'unstructured',\n",
       " u',',\n",
       " u'[',\n",
       " u'1',\n",
       " u']',\n",
       " u'[',\n",
       " u'2',\n",
       " u']',\n",
       " u'which',\n",
       " u'is',\n",
       " u'a',\n",
       " u'continuation',\n",
       " u'of',\n",
       " u'some',\n",
       " u'of',\n",
       " u'the',\n",
       " u'data',\n",
       " u'analysis',\n",
       " u'fields',\n",
       " u'such',\n",
       " u'as',\n",
       " u'statistics',\n",
       " u',',\n",
       " u'data',\n",
       " u'mining',\n",
       " u',',\n",
       " u'and',\n",
       " u'predictive',\n",
       " u'analytics',\n",
       " u',',\n",
       " u'similar',\n",
       " u'to',\n",
       " u'Knowledge',\n",
       " u'Discovery',\n",
       " u'in',\n",
       " u'Databases',\n",
       " u'(',\n",
       " u'KDD',\n",
       " u')',\n",
       " u'.',\n",
       " u'Data',\n",
       " u'science',\n",
       " u'employs',\n",
       " u'techniques',\n",
       " u'and',\n",
       " u'theories',\n",
       " u'drawn',\n",
       " u'from',\n",
       " u'many',\n",
       " u'fields',\n",
       " u'within',\n",
       " u'the',\n",
       " u'broad',\n",
       " u'areas',\n",
       " u'of',\n",
       " u'mathematics',\n",
       " u',',\n",
       " u'statistics',\n",
       " u',',\n",
       " u'information',\n",
       " u'science',\n",
       " u',',\n",
       " u'and',\n",
       " u'computer',\n",
       " u'science',\n",
       " u',',\n",
       " u'including',\n",
       " u'signal',\n",
       " u'processing',\n",
       " u',',\n",
       " u'probability',\n",
       " u'models',\n",
       " u',',\n",
       " u'machine',\n",
       " u'learning',\n",
       " u',']"
      ]
     },
     "execution_count": 8,
     "metadata": {},
     "output_type": "execute_result"
    }
   ],
   "source": [
    "# tokenize into words\n",
    "tokens = [word for word in nltk.word_tokenize(text)]\n",
    "tokens[:100]"
   ]
  },
  {
   "cell_type": "code",
   "execution_count": 9,
   "metadata": {
    "collapsed": false
   },
   "outputs": [
    {
     "data": {
      "text/plain": [
       "[u'Data',\n",
       " u'Science',\n",
       " u'is',\n",
       " u'an',\n",
       " u'interdisciplinary',\n",
       " u'field',\n",
       " u'about',\n",
       " u'processes',\n",
       " u'and',\n",
       " u'systems',\n",
       " u'to',\n",
       " u'extract',\n",
       " u'knowledge',\n",
       " u'or',\n",
       " u'insights',\n",
       " u'from',\n",
       " u'data',\n",
       " u'in',\n",
       " u'various',\n",
       " u'forms',\n",
       " u'either',\n",
       " u'structured',\n",
       " u'or',\n",
       " u'unstructured',\n",
       " u'which',\n",
       " u'is',\n",
       " u'a',\n",
       " u'continuation',\n",
       " u'of',\n",
       " u'some',\n",
       " u'of',\n",
       " u'the',\n",
       " u'data',\n",
       " u'analysis',\n",
       " u'fields',\n",
       " u'such',\n",
       " u'as',\n",
       " u'statistics',\n",
       " u'data',\n",
       " u'mining',\n",
       " u'and',\n",
       " u'predictive',\n",
       " u'analytics',\n",
       " u'similar',\n",
       " u'to',\n",
       " u'Knowledge',\n",
       " u'Discovery',\n",
       " u'in',\n",
       " u'Databases',\n",
       " u'KDD',\n",
       " u'Data',\n",
       " u'science',\n",
       " u'employs',\n",
       " u'techniques',\n",
       " u'and',\n",
       " u'theories',\n",
       " u'drawn',\n",
       " u'from',\n",
       " u'many',\n",
       " u'fields',\n",
       " u'within',\n",
       " u'the',\n",
       " u'broad',\n",
       " u'areas',\n",
       " u'of',\n",
       " u'mathematics',\n",
       " u'statistics',\n",
       " u'information',\n",
       " u'science',\n",
       " u'and',\n",
       " u'computer',\n",
       " u'science',\n",
       " u'including',\n",
       " u'signal',\n",
       " u'processing',\n",
       " u'probability',\n",
       " u'models',\n",
       " u'machine',\n",
       " u'learning',\n",
       " u'statistical',\n",
       " u'learning',\n",
       " u'data',\n",
       " u'mining',\n",
       " u'database',\n",
       " u'data',\n",
       " u'engineering',\n",
       " u'pattern',\n",
       " u'recognition',\n",
       " u'and',\n",
       " u'learning',\n",
       " u'visualization',\n",
       " u'predictive',\n",
       " u'analytics',\n",
       " u'uncertainty',\n",
       " u'modeling',\n",
       " u'data',\n",
       " u'warehousing',\n",
       " u'data',\n",
       " u'compression',\n",
       " u'computer']"
      ]
     },
     "execution_count": 9,
     "metadata": {},
     "output_type": "execute_result"
    }
   ],
   "source": [
    "# only keep tokens that start with a letter (using regular expressions)\n",
    "import re\n",
    "clean_tokens = [token for token in tokens if re.search('^[a-zA-Z]+', token)]\n",
    "clean_tokens[:100]\n"
   ]
  },
  {
   "cell_type": "code",
   "execution_count": 10,
   "metadata": {
    "collapsed": false
   },
   "outputs": [
    {
     "data": {
      "text/plain": [
       "[(u'and', 48),\n",
       " (u'data', 46),\n",
       " (u'the', 44),\n",
       " (u'of', 39),\n",
       " (u'science', 20),\n",
       " (u'in', 20),\n",
       " (u'to', 17),\n",
       " (u'a', 16),\n",
       " (u'Data', 14),\n",
       " (u'In', 11),\n",
       " (u'for', 11),\n",
       " (u'as', 10),\n",
       " (u'is', 10),\n",
       " (u'Science', 10),\n",
       " (u'term', 8),\n",
       " (u'his', 7),\n",
       " (u'The', 6),\n",
       " (u'analysis', 6),\n",
       " (u'scientists', 5),\n",
       " (u'such', 5),\n",
       " (u'their', 5),\n",
       " (u'that', 5),\n",
       " (u'are', 5),\n",
       " (u'used', 5),\n",
       " (u'has', 5)]"
      ]
     },
     "execution_count": 10,
     "metadata": {},
     "output_type": "execute_result"
    }
   ],
   "source": [
    "# count the tokens\n",
    "from collections import Counter\n",
    "c = Counter(clean_tokens)\n",
    "\n",
    "c.most_common(25)       # mixed case"
   ]
  },
  {
   "cell_type": "code",
   "execution_count": 11,
   "metadata": {
    "collapsed": false
   },
   "outputs": [
    {
     "name": "stdout",
     "output_type": "stream",
     "text": [
      "Action 1\n",
      "Although 1\n",
      "American 1\n",
      "An 1\n",
      "April 2\n",
      "Areas 1\n",
      "Association 1\n",
      "Board 1\n",
      "Business 1\n",
      "C. 1\n",
      "C.F 1\n",
      "CODATA 1\n",
      "Carver 1\n",
      "Century 2\n",
      "Chandra 1\n",
      "Classification 1\n",
      "Cleveland 2\n",
      "Collections 1\n",
      "Columbia 1\n",
      "Committee 1\n",
      "Company 1\n",
      "Computer 1\n",
      "Concise 1\n",
      "Council 1\n",
      "DJ 1\n"
     ]
    }
   ],
   "source": [
    "sorted(c.items())[:25]  # counts similar words separately\n",
    "for item in sorted(c.items())[:25]:\n",
    "    print item[0], item[1]\n"
   ]
  },
  {
   "cell_type": "code",
   "execution_count": null,
   "metadata": {
    "collapsed": true
   },
   "outputs": [],
   "source": [
    "###################\n",
    "##### EXERCISE ####\n",
    "###################\n",
    "\n",
    "# Put each word in clean_tokens in lower case\n",
    "# find the new word count of the lowered tokens\n",
    "# Then show the top 10 words used in this corpus\n"
   ]
  },
  {
   "cell_type": "markdown",
   "metadata": {},
   "source": [
    "###Stemming\n",
    "What:  Reduce a word to its base/stem form\n",
    "\n",
    "Why:   Often makes sense to treat multiple word forms the same way\n",
    "\n",
    "Notes: Uses a \"simple\" and fast rule-based approach\n",
    "       Output can be undesirable for irregular words\n",
    "       Stemmed words are usually not shown to users (used for analysis/indexing)\n",
    "       Some search engines treat words with the same stem as synonyms"
   ]
  },
  {
   "cell_type": "code",
   "execution_count": 12,
   "metadata": {
    "collapsed": true
   },
   "outputs": [],
   "source": [
    "from nltk.stem.snowball import SnowballStemmer\n",
    "stemmer = SnowballStemmer('english')\n"
   ]
  },
  {
   "cell_type": "code",
   "execution_count": 13,
   "metadata": {
    "collapsed": false
   },
   "outputs": [
    {
     "data": {
      "text/plain": [
       "u'charg'"
      ]
     },
     "execution_count": 13,
     "metadata": {},
     "output_type": "execute_result"
    }
   ],
   "source": [
    "# example stemming\n",
    "stemmer.stem('charge')\n",
    "stemmer.stem('charging')\n",
    "stemmer.stem('charged')"
   ]
  },
  {
   "cell_type": "code",
   "execution_count": 14,
   "metadata": {
    "collapsed": true
   },
   "outputs": [],
   "source": [
    "# stem the tokens\n",
    "stemmed_tokens = [stemmer.stem(t) for t in clean_tokens]\n"
   ]
  },
  {
   "cell_type": "code",
   "execution_count": 15,
   "metadata": {
    "collapsed": false
   },
   "outputs": [
    {
     "data": {
      "text/plain": [
       "[(u'a', 16),\n",
       " (u'abil', 1),\n",
       " (u'about', 1),\n",
       " (u'academ', 2),\n",
       " (u'action', 1),\n",
       " (u'activ', 2),\n",
       " (u'address', 1),\n",
       " (u'advanc', 1),\n",
       " (u'advoc', 1),\n",
       " (u'affect', 1),\n",
       " (u'aid', 1),\n",
       " (u'all', 1),\n",
       " (u'also', 1),\n",
       " (u'although', 2),\n",
       " (u'american', 1),\n",
       " (u'amount', 1),\n",
       " (u'an', 5),\n",
       " (u'analysi', 6),\n",
       " (u'analyt', 3),\n",
       " (u'analytics\\u201d', 1),\n",
       " (u'and', 48),\n",
       " (u'annot', 1),\n",
       " (u'answer', 1),\n",
       " (u'appli', 2),\n",
       " (u'applic', 3)]"
      ]
     },
     "execution_count": 15,
     "metadata": {},
     "output_type": "execute_result"
    }
   ],
   "source": [
    "# count the stemmed tokens\n",
    "c = Counter(stemmed_tokens)\n",
    "c.most_common(25)       # all lowercase\n",
    "sorted(c.items())[:25]  # some are strange"
   ]
  },
  {
   "cell_type": "markdown",
   "metadata": {},
   "source": [
    "###Lemmatization\n",
    "What:  Derive the canonical form ('lemma') of a word\n",
    "    \n",
    "Why:   Can be better than stemming, reduces words to a 'normal' form.\n",
    "    \n",
    "Notes: Uses a dictionary-based approach (slower than stemming)\n",
    "    "
   ]
  },
  {
   "cell_type": "code",
   "execution_count": 18,
   "metadata": {
    "collapsed": false
   },
   "outputs": [
    {
     "data": {
      "text/plain": [
       "u'dog'"
      ]
     },
     "execution_count": 18,
     "metadata": {},
     "output_type": "execute_result"
    }
   ],
   "source": [
    "lemmatizer = nltk.WordNetLemmatizer()\n",
    "\n",
    "# compare stemmer to lemmatizer\n",
    "stemmer.stem('dogs')\n",
    "#lemmatizer.lemmatize('dogs')\n"
   ]
  },
  {
   "cell_type": "code",
   "execution_count": 21,
   "metadata": {
    "collapsed": false
   },
   "outputs": [
    {
     "data": {
      "text/plain": [
       "u'wolf'"
      ]
     },
     "execution_count": 21,
     "metadata": {},
     "output_type": "execute_result"
    }
   ],
   "source": [
    "#stemmer.stem('wolves') # Beter for information retrieval and search\n",
    "lemmatizer.lemmatize('wolves') # Better for text analysis\n"
   ]
  },
  {
   "cell_type": "code",
   "execution_count": 25,
   "metadata": {
    "collapsed": false
   },
   "outputs": [
    {
     "data": {
      "text/plain": [
       "'is'"
      ]
     },
     "execution_count": 25,
     "metadata": {},
     "output_type": "execute_result"
    }
   ],
   "source": [
    "#stemmer.stem('is')\n",
    "lemmatizer.lemmatize('is')\n",
    "#lemmatizer.lemmatize('is',pos='v')\n"
   ]
  },
  {
   "cell_type": "markdown",
   "metadata": {},
   "source": [
    "###Part of Speech Tagging\n",
    "\n",
    "What:  Determine the part of speech of a word\n",
    "    \n",
    "Why:   This can inform other methods and models such as Named Entity Recognition\n",
    "    \n",
    "Notes: http://www.ling.upenn.edu/courses/Fall_2003/ling001/penn_treebank_pos.html"
   ]
  },
  {
   "cell_type": "code",
   "execution_count": 26,
   "metadata": {
    "collapsed": false
   },
   "outputs": [
    {
     "data": {
      "text/plain": [
       "[('Sinan', 'NNP'),\n",
       " ('and', 'CC'),\n",
       " ('Patrick', 'NNP'),\n",
       " ('and', 'CC'),\n",
       " ('Liam', 'NNP'),\n",
       " ('are', 'VBP'),\n",
       " ('great', 'JJ'),\n",
       " ('teachers', 'NNS'),\n",
       " ('!', '.')]"
      ]
     },
     "execution_count": 26,
     "metadata": {},
     "output_type": "execute_result"
    }
   ],
   "source": [
    "temp_sent = 'Sinan and Patrick and Liam are great teachers!'\n",
    "# pos_tag takes a tokenize sentence\n",
    "nltk.pos_tag(nltk.word_tokenize(temp_sent))\n"
   ]
  },
  {
   "cell_type": "code",
   "execution_count": 27,
   "metadata": {
    "collapsed": false
   },
   "outputs": [
    {
     "data": {
      "text/plain": [
       "[('Ian', 'NNP'),\n",
       " ('and', 'CC'),\n",
       " ('Alasdair', 'NNP'),\n",
       " ('are', 'VBP'),\n",
       " ('teaching', 'VBG'),\n",
       " ('at', 'IN'),\n",
       " ('General', 'NNP'),\n",
       " ('Assembly', 'NNP'),\n",
       " ('this', 'DT'),\n",
       " ('Monday', 'NNP'),\n",
       " ('!', '.')]"
      ]
     },
     "execution_count": 27,
     "metadata": {},
     "output_type": "execute_result"
    }
   ],
   "source": [
    "temp_sent = 'Ian and Alasdair are teaching at General Assembly this Monday!'\n",
    "# pos_tag takes a tokenize sentence\n",
    "nltk.pos_tag(nltk.word_tokenize(temp_sent))"
   ]
  },
  {
   "cell_type": "markdown",
   "metadata": {},
   "source": [
    "###Stopword Removal\n",
    "\n",
    "What:  Remove common words that will likely appear in any text\n",
    "    \n",
    "Why:   They don't tell you much about your text"
   ]
  },
  {
   "cell_type": "code",
   "execution_count": 40,
   "metadata": {
    "collapsed": false
   },
   "outputs": [
    {
     "data": {
      "text/plain": [
       "Counter({u'a': 16,\n",
       "         u'abil': 1,\n",
       "         u'about': 1,\n",
       "         u'academ': 2,\n",
       "         u'action': 1,\n",
       "         u'activ': 2,\n",
       "         u'address': 1,\n",
       "         u'advanc': 1,\n",
       "         u'advoc': 1,\n",
       "         u'affect': 1,\n",
       "         u'aid': 1,\n",
       "         u'all': 1,\n",
       "         u'also': 1,\n",
       "         u'although': 2,\n",
       "         u'american': 1,\n",
       "         u'amount': 1,\n",
       "         u'an': 5,\n",
       "         u'analysi': 6,\n",
       "         u'analyt': 3,\n",
       "         u'analytics\\u201d': 1,\n",
       "         u'and': 48,\n",
       "         u'annot': 1,\n",
       "         u'answer': 1,\n",
       "         u'appli': 2,\n",
       "         u'applic': 3,\n",
       "         u'appoint': 1,\n",
       "         u'april': 2,\n",
       "         u'archivist': 1,\n",
       "         u'are': 5,\n",
       "         u'area': 3,\n",
       "         u'argu': 1,\n",
       "         u'articl': 1,\n",
       "         u'artifici': 1,\n",
       "         u'as': 10,\n",
       "         u'associ': 1,\n",
       "         u'at': 3,\n",
       "         u'bandwidth': 1,\n",
       "         u'be': 2,\n",
       "         u'becom': 1,\n",
       "         u'began': 1,\n",
       "         u'believ': 1,\n",
       "         u'berat': 1,\n",
       "         u'between': 1,\n",
       "         u'biennial': 1,\n",
       "         u'big': 3,\n",
       "         u'biolog': 1,\n",
       "         u'board': 1,\n",
       "         u'branch': 1,\n",
       "         u'broad': 1,\n",
       "         u'build': 1,\n",
       "         u'busi': 4,\n",
       "         u'but': 1,\n",
       "         u'buzzword': 1,\n",
       "         u'by': 2,\n",
       "         u'c.': 1,\n",
       "         u'c.f': 1,\n",
       "         u'care': 1,\n",
       "         u'carver': 1,\n",
       "         u'centuri': 2,\n",
       "         u'chandra': 1,\n",
       "         u'character': 1,\n",
       "         u'citat': 1,\n",
       "         u'classif': 2,\n",
       "         u'clear': 1,\n",
       "         u'cleveland': 2,\n",
       "         u'codata': 1,\n",
       "         u'collect': 3,\n",
       "         u'columbia': 1,\n",
       "         u'committe': 1,\n",
       "         u'communic': 1,\n",
       "         u'compani': 1,\n",
       "         u'competit': 1,\n",
       "         u'compress': 1,\n",
       "         u'comput': 8,\n",
       "         u'concis': 1,\n",
       "         u'conclus': 1,\n",
       "         u'conduct': 1,\n",
       "         u'confer': 2,\n",
       "         u'consid': 1,\n",
       "         u'consist': 1,\n",
       "         u'constraint': 1,\n",
       "         u'contemporari': 1,\n",
       "         u'context': 1,\n",
       "         u'continu': 1,\n",
       "         u'council': 1,\n",
       "         u'creat': 1,\n",
       "         u'creativ': 1,\n",
       "         u'crucial': 1,\n",
       "         u'curat': 1,\n",
       "         u'current': 1,\n",
       "         u'dashboard': 1,\n",
       "         u'data': 60,\n",
       "         u'data-scientist': 1,\n",
       "         u'databas': 3,\n",
       "         u'datalog': 1,\n",
       "         u'dataset': 1,\n",
       "         u'day': 1,\n",
       "         u'de': 1,\n",
       "         u'decis': 1,\n",
       "         u'defin': 2,\n",
       "         u'definit': 1,\n",
       "         u'degre': 1,\n",
       "         u'demand': 1,\n",
       "         u'descript': 1,\n",
       "         u'despit': 1,\n",
       "         u'develop': 1,\n",
       "         u'devot': 1,\n",
       "         u'digit': 3,\n",
       "         u'disciplin': 2,\n",
       "         u'disciplinari': 1,\n",
       "         u'discoveri': 1,\n",
       "         u'display': 1,\n",
       "         u'distinct': 1,\n",
       "         u'dj': 1,\n",
       "         u'do': 1,\n",
       "         u'domain': 1,\n",
       "         u'drawn': 1,\n",
       "         u'dub': 1,\n",
       "         u'econom': 1,\n",
       "         u'economi': 1,\n",
       "         u'edit': 1,\n",
       "         u'educ': 1,\n",
       "         u'either': 1,\n",
       "         u'emerg': 1,\n",
       "         u'employ': 1,\n",
       "         u'enabl': 1,\n",
       "         u'encompass': 2,\n",
       "         u'engin': 2,\n",
       "         u'enhanc': 1,\n",
       "         u'ensur': 1,\n",
       "         u'entitl': 2,\n",
       "         u'environ': 1,\n",
       "         u'establish': 1,\n",
       "         u'evalu': 1,\n",
       "         u'excess': 1,\n",
       "         u'exchang': 1,\n",
       "         u'exist': 1,\n",
       "         u'expand': 1,\n",
       "         u'expect': 1,\n",
       "         u'expert': 2,\n",
       "         u'explod': 1,\n",
       "         u'exploratori': 1,\n",
       "         u'extend': 1,\n",
       "         u'extract': 1,\n",
       "         u'facebook': 1,\n",
       "         u'feder': 1,\n",
       "         u'field': 7,\n",
       "         u'financ': 1,\n",
       "         u'find': 1,\n",
       "         u'first': 2,\n",
       "         u'focus': 2,\n",
       "         u'for': 11,\n",
       "         u'forb': 1,\n",
       "         u'form': 1,\n",
       "         u'founder': 1,\n",
       "         u'freeli': 1,\n",
       "         u'from': 3,\n",
       "         u'gave': 1,\n",
       "         u'general': 1,\n",
       "         u'get/pres': 1,\n",
       "         u'gil': 1,\n",
       "         u'global': 1,\n",
       "         u'graduat': 1,\n",
       "         u'growth': 1,\n",
       "         u'h.': 1,\n",
       "         u'hammerbach': 1,\n",
       "         u'hardwar': 1,\n",
       "         u'harvard': 1,\n",
       "         u'has': 5,\n",
       "         u'he': 4,\n",
       "         u'health': 1,\n",
       "         u'heavili': 1,\n",
       "         u'here': 1,\n",
       "         u'high': 1,\n",
       "         u'his': 7,\n",
       "         u'honor': 1,\n",
       "         u'human': 1,\n",
       "         u'idea': 1,\n",
       "         u'ifc': 1,\n",
       "         u'import': 1,\n",
       "         u'in': 31,\n",
       "         u'inaugur': 1,\n",
       "         u'includ': 3,\n",
       "         u'incorpor': 1,\n",
       "         u'independ': 1,\n",
       "         u'indian': 2,\n",
       "         u'influenc': 1,\n",
       "         u'inform': 2,\n",
       "         u'informat': 1,\n",
       "         u'initi': 2,\n",
       "         u'inquiri': 1,\n",
       "         u'insight': 1,\n",
       "         u'insights/find': 1,\n",
       "         u'instead': 1,\n",
       "         u'institut': 1,\n",
       "         u'integr': 1,\n",
       "         u'intellig': 2,\n",
       "         u'interchang': 1,\n",
       "         u'interdisciplinari': 1,\n",
       "         u'interest': 1,\n",
       "         u'intern': 3,\n",
       "         u'international': 1,\n",
       "         u'internet': 1,\n",
       "         u'interpret': 1,\n",
       "         u'introduc': 1,\n",
       "         u'investig': 1,\n",
       "         u'is': 10,\n",
       "         u'issu': 2,\n",
       "         u'it': 3,\n",
       "         u'iter': 1,\n",
       "         u'januari': 1,\n",
       "         u'jeff': 2,\n",
       "         u'job': 2,\n",
       "         u'joint': 1,\n",
       "         u'journal': 3,\n",
       "         u'journalist': 1,\n",
       "         u'kdd': 1,\n",
       "         u'keynot': 1,\n",
       "         u'knowledg': 2,\n",
       "         u'kobe': 1,\n",
       "         u'larg': 2,\n",
       "         u'later': 1,\n",
       "         u'learn': 4,\n",
       "         u'lectur': 5,\n",
       "         u'legal': 1,\n",
       "         u'librarian': 1,\n",
       "         u'linkedin': 1,\n",
       "         u'long-liv': 1,\n",
       "         u'machin': 3,\n",
       "         u'mahalanobi': 2,\n",
       "         u'make': 1,\n",
       "         u'manag': 2,\n",
       "         u'mani': 3,\n",
       "         u'mathemat': 2,\n",
       "         u'mckinsey': 1,\n",
       "         u'medic': 1,\n",
       "         u'meet': 1,\n",
       "         u'member': 1,\n",
       "         u'memori': 1,\n",
       "         u'merg': 1,\n",
       "         u'met': 1,\n",
       "         u'method': 6,\n",
       "         u'michigan': 1,\n",
       "         u'million': 1,\n",
       "         u'mine': 3,\n",
       "         u'model': 5,\n",
       "         u'modern': 1,\n",
       "         u'month': 1,\n",
       "         u'multidisciplinari': 1,\n",
       "         u'nate': 1,\n",
       "         u'nation': 1,\n",
       "         u'naur': 2,\n",
       "         u'need': 1,\n",
       "         u'new': 1,\n",
       "         u'newli': 1,\n",
       "         u'no': 2,\n",
       "         u'non-comput': 1,\n",
       "         u'normal': 1,\n",
       "         u'not': 1,\n",
       "         u'note': 1,\n",
       "         u'novemb': 1,\n",
       "         u'number': 1,\n",
       "         u'occup': 1,\n",
       "         u'of': 39,\n",
       "         u'often': 2,\n",
       "         u'on': 4,\n",
       "         u'or': 2,\n",
       "         u'organ': 1,\n",
       "         u'origin': 1,\n",
       "         u'other': 1,\n",
       "         u'over': 1,\n",
       "         u'p.c': 1,\n",
       "         u'papers/report': 1,\n",
       "         u'part': 1,\n",
       "         u'particular': 1,\n",
       "         u'patil': 1,\n",
       "         u'pattern': 1,\n",
       "         u'pedagogi': 1,\n",
       "         u'peopl': 1,\n",
       "         u'perform': 1,\n",
       "         u'perspect': 1,\n",
       "         u'peter': 1,\n",
       "         u'plan': 1,\n",
       "         u'platform': 1,\n",
       "         u'popular': 1,\n",
       "         u'prasanta': 1,\n",
       "         u'predict': 2,\n",
       "         u'preprocess': 1,\n",
       "         u'present': 3,\n",
       "         u'press': 1,\n",
       "         u'primari': 1,\n",
       "         u'probabl': 1,\n",
       "         u'process': 3,\n",
       "         u'produc': 1,\n",
       "         u'professorship': 1,\n",
       "         u'program': 2,\n",
       "         u'programm': 1,\n",
       "         u'project': 1,\n",
       "         u'provid': 1,\n",
       "         u'public': 2,\n",
       "         u'publish': 4,\n",
       "         u'quantit': 1,\n",
       "         u'question-and-answ': 1,\n",
       "         u'rang': 1,\n",
       "         u'rapid': 1,\n",
       "         u'rather': 2,\n",
       "         u'recognit': 2,\n",
       "         u'redund': 1,\n",
       "         u'relat': 1,\n",
       "         u'renam': 1,\n",
       "         u'replac': 1,\n",
       "         u'report': 1,\n",
       "         u'research': 3,\n",
       "         u'respect': 1,\n",
       "         u'restrict': 1,\n",
       "         u'result': 1,\n",
       "         u'review': 2,\n",
       "         u'revu': 1,\n",
       "         u'rich': 1,\n",
       "         u'robot': 1,\n",
       "         u's.': 1,\n",
       "         u'said': 1,\n",
       "         u'scale': 1,\n",
       "         u'scienc': 32,\n",
       "         u'scientist': 9,\n",
       "         u'search': 1,\n",
       "         u'section': 1,\n",
       "         u'see': 1,\n",
       "         u'sex': 1,\n",
       "         u'sexiest': 1,\n",
       "         u'short': 1,\n",
       "         u\"shouldn't\": 1,\n",
       "         u'signal': 1,\n",
       "         u'silver': 1,\n",
       "         u'similar': 1,\n",
       "         u'simpli': 1,\n",
       "         u'six': 1,\n",
       "         u'slight': 1,\n",
       "         u'social': 1,\n",
       "         u'societi': 1,\n",
       "         u'softwar': 2,\n",
       "         u'solut': 1,\n",
       "         u'some': 2,\n",
       "         u'sourc': 2,\n",
       "         u'speech': 1,\n",
       "         u'start': 1,\n",
       "         u'statist': 15,\n",
       "         u'statistician': 5,\n",
       "         u'statistician.\\u201d': 1,\n",
       "         u'statistiqu': 1,\n",
       "         u'structur': 1,\n",
       "         u'substitut': 1,\n",
       "         u'success': 1,\n",
       "         u'such': 5,\n",
       "         u'survey': 2,\n",
       "         u'system': 2,\n",
       "         u'technic': 2,\n",
       "         u'techniqu': 1,\n",
       "         u'technolog': 1,\n",
       "         u'term': 8,\n",
       "         u'than': 2,\n",
       "         u'that': 5,\n",
       "         u'the': 50,\n",
       "         u'their': 5,\n",
       "         u'theori': 2,\n",
       "         u'thereaft': 1,\n",
       "         u'these': 1,\n",
       "         u'they': 1,\n",
       "         u'think': 1,\n",
       "         u'thirti': 1,\n",
       "         u'this': 1,\n",
       "         u'time': 1,\n",
       "         u'titl': 1,\n",
       "         u'to': 17,\n",
       "         u'tool': 1,\n",
       "         u'translat': 1,\n",
       "         u'trilog': 1,\n",
       "         u'uncertainti': 1,\n",
       "         u'understand': 1,\n",
       "         u'univers': 2,\n",
       "         u'unstructur': 1,\n",
       "         u'up': 1,\n",
       "         u'usag': 1,\n",
       "         u'use': 8,\n",
       "         u'valu': 1,\n",
       "         u'various': 1,\n",
       "         u'view': 1,\n",
       "         u'visual': 2,\n",
       "         u'volum': 1,\n",
       "         u'wareh': 1,\n",
       "         u'was': 3,\n",
       "         u'way': 1,\n",
       "         u'which': 5,\n",
       "         u'who': 1,\n",
       "         u'whose': 1,\n",
       "         u'wide': 1,\n",
       "         u'william': 1,\n",
       "         u'with': 5,\n",
       "         u'within': 1,\n",
       "         u'without': 1,\n",
       "         u'work': 2,\n",
       "         u'worker': 1,\n",
       "         u'write': 1,\n",
       "         u'wu': 1,\n",
       "         u'year': 1})"
      ]
     },
     "execution_count": 40,
     "metadata": {},
     "output_type": "execute_result"
    }
   ],
   "source": [
    "# most of top 25 stemmed tokens are \"worthless\"\n",
    "#c.most_common(25)\n",
    "c"
   ]
  },
  {
   "cell_type": "code",
   "execution_count": 29,
   "metadata": {
    "collapsed": false
   },
   "outputs": [
    {
     "data": {
      "text/plain": [
       "[u'a',\n",
       " u'about',\n",
       " u'above',\n",
       " u'after',\n",
       " u'again',\n",
       " u'against',\n",
       " u'all',\n",
       " u'am',\n",
       " u'an',\n",
       " u'and',\n",
       " u'any',\n",
       " u'are',\n",
       " u'as',\n",
       " u'at',\n",
       " u'be',\n",
       " u'because',\n",
       " u'been',\n",
       " u'before',\n",
       " u'being',\n",
       " u'below',\n",
       " u'between',\n",
       " u'both',\n",
       " u'but',\n",
       " u'by',\n",
       " u'can',\n",
       " u'did',\n",
       " u'do',\n",
       " u'does',\n",
       " u'doing',\n",
       " u'don',\n",
       " u'down',\n",
       " u'during',\n",
       " u'each',\n",
       " u'few',\n",
       " u'for',\n",
       " u'from',\n",
       " u'further',\n",
       " u'had',\n",
       " u'has',\n",
       " u'have',\n",
       " u'having',\n",
       " u'he',\n",
       " u'her',\n",
       " u'here',\n",
       " u'hers',\n",
       " u'herself',\n",
       " u'him',\n",
       " u'himself',\n",
       " u'his',\n",
       " u'how',\n",
       " u'i',\n",
       " u'if',\n",
       " u'in',\n",
       " u'into',\n",
       " u'is',\n",
       " u'it',\n",
       " u'its',\n",
       " u'itself',\n",
       " u'just',\n",
       " u'me',\n",
       " u'more',\n",
       " u'most',\n",
       " u'my',\n",
       " u'myself',\n",
       " u'no',\n",
       " u'nor',\n",
       " u'not',\n",
       " u'now',\n",
       " u'of',\n",
       " u'off',\n",
       " u'on',\n",
       " u'once',\n",
       " u'only',\n",
       " u'or',\n",
       " u'other',\n",
       " u'our',\n",
       " u'ours',\n",
       " u'ourselves',\n",
       " u'out',\n",
       " u'over',\n",
       " u'own',\n",
       " u's',\n",
       " u'same',\n",
       " u'she',\n",
       " u'should',\n",
       " u'so',\n",
       " u'some',\n",
       " u'such',\n",
       " u't',\n",
       " u'than',\n",
       " u'that',\n",
       " u'the',\n",
       " u'their',\n",
       " u'theirs',\n",
       " u'them',\n",
       " u'themselves',\n",
       " u'then',\n",
       " u'there',\n",
       " u'these',\n",
       " u'they',\n",
       " u'this',\n",
       " u'those',\n",
       " u'through',\n",
       " u'to',\n",
       " u'too',\n",
       " u'under',\n",
       " u'until',\n",
       " u'up',\n",
       " u'very',\n",
       " u'was',\n",
       " u'we',\n",
       " u'were',\n",
       " u'what',\n",
       " u'when',\n",
       " u'where',\n",
       " u'which',\n",
       " u'while',\n",
       " u'who',\n",
       " u'whom',\n",
       " u'why',\n",
       " u'will',\n",
       " u'with',\n",
       " u'you',\n",
       " u'your',\n",
       " u'yours',\n",
       " u'yourself',\n",
       " u'yourselves']"
      ]
     },
     "execution_count": 29,
     "metadata": {},
     "output_type": "execute_result"
    }
   ],
   "source": [
    "# view the list of stopwords\n",
    "stopwords = nltk.corpus.stopwords.words('english')\n",
    "sorted(stopwords)"
   ]
  },
  {
   "cell_type": "code",
   "execution_count": 41,
   "metadata": {
    "collapsed": false
   },
   "outputs": [
    {
     "data": {
      "text/plain": [
       "[(u'data', 60),\n",
       " (u'scienc', 32),\n",
       " (u'statist', 15),\n",
       " (u'scientist', 9),\n",
       " (u'use', 8),\n",
       " (u'term', 8),\n",
       " (u'comput', 8),\n",
       " (u'field', 7),\n",
       " (u'method', 6),\n",
       " (u'analysi', 6),\n",
       " (u'model', 5),\n",
       " (u'statistician', 5),\n",
       " (u'lectur', 5),\n",
       " (u'learn', 4),\n",
       " (u'publish', 4),\n",
       " (u'busi', 4),\n",
       " (u'digit', 3),\n",
       " (u'process', 3),\n",
       " (u'research', 3),\n",
       " (u'mine', 3),\n",
       " (u'analyt', 3),\n",
       " (u'databas', 3),\n",
       " (u'mani', 3),\n",
       " (u'present', 3),\n",
       " (u'journal', 3)]"
      ]
     },
     "execution_count": 41,
     "metadata": {},
     "output_type": "execute_result"
    }
   ],
   "source": [
    "##################\n",
    "### Exercise  ####\n",
    "##################\n",
    "\n",
    "\n",
    "# Create a variable called stemmed_stops which is the \n",
    "# stemmed version of each stopword in stopwords\n",
    "# Use the stemmer we used up above!\n",
    "stemmed_stops = [stemmer.stem(t) for t in stopwords]\n",
    "\n",
    "# Then create a list called stemmed_tokens_no_stop that \n",
    "# contains only the tokens in stemmed_tokens that aren't in \n",
    "# stemmed_stops\n",
    "stemmed_tokens_no_stop = [t for t in stemmed_tokens if t not in stemmed_stops]\n",
    "# Show the 25 most common stemmed non stop word tokens\n",
    "p =Counter(stemmed_tokens_no_stop)\n",
    "p.most_common(25)\n",
    " "
   ]
  },
  {
   "cell_type": "markdown",
   "metadata": {},
   "source": [
    "###Named Entity Recognition\n",
    "\n",
    "What:  Automatically extract the names of people, places, organizations, etc.\n",
    "\n",
    "Why:   Can help you to identify \"important\" words\n",
    "\n",
    "Notes: Training NER classifier requires a lot of annotated training data\n",
    "       Should be trained on data relevant to your task\n",
    "       Stanford NER classifier is the \"gold standard\""
   ]
  },
  {
   "cell_type": "code",
   "execution_count": 42,
   "metadata": {
    "collapsed": false
   },
   "outputs": [
    {
     "data": {
      "text/plain": [
       "['Ian', 'is', 'an', 'instructor', 'for', 'General', 'Assembly']"
      ]
     },
     "execution_count": 42,
     "metadata": {},
     "output_type": "execute_result"
    }
   ],
   "source": [
    "sentence = 'Ian is an instructor for General Assembly'\n",
    "\n",
    "tokenized = nltk.word_tokenize(sentence)\n",
    "\n",
    "tokenized"
   ]
  },
  {
   "cell_type": "code",
   "execution_count": 43,
   "metadata": {
    "collapsed": false
   },
   "outputs": [
    {
     "data": {
      "text/plain": [
       "[('Ian', 'NNP'),\n",
       " ('is', 'VBZ'),\n",
       " ('an', 'DT'),\n",
       " ('instructor', 'NN'),\n",
       " ('for', 'IN'),\n",
       " ('General', 'NNP'),\n",
       " ('Assembly', 'NNP')]"
      ]
     },
     "execution_count": 43,
     "metadata": {},
     "output_type": "execute_result"
    }
   ],
   "source": [
    "tagged = nltk.pos_tag(tokenized)\n",
    "\n",
    "tagged\n"
   ]
  },
  {
   "cell_type": "code",
   "execution_count": 44,
   "metadata": {
    "collapsed": false
   },
   "outputs": [
    {
     "ename": "LookupError",
     "evalue": "\n\n===========================================================================\nNLTK was unable to find the gs file!\nUse software specific configuration paramaters or set the PATH environment variable.\n===========================================================================",
     "output_type": "error",
     "traceback": [
      "\u001b[1;31m---------------------------------------------------------------------------\u001b[0m",
      "\u001b[1;31mLookupError\u001b[0m                               Traceback (most recent call last)",
      "\u001b[1;32mC:\\Users\\Angus\\Anaconda2\\lib\\site-packages\\IPython\\core\\formatters.pyc\u001b[0m in \u001b[0;36m__call__\u001b[1;34m(self, obj)\u001b[0m\n\u001b[0;32m    339\u001b[0m             \u001b[0mmethod\u001b[0m \u001b[1;33m=\u001b[0m \u001b[0m_safe_get_formatter_method\u001b[0m\u001b[1;33m(\u001b[0m\u001b[0mobj\u001b[0m\u001b[1;33m,\u001b[0m \u001b[0mself\u001b[0m\u001b[1;33m.\u001b[0m\u001b[0mprint_method\u001b[0m\u001b[1;33m)\u001b[0m\u001b[1;33m\u001b[0m\u001b[0m\n\u001b[0;32m    340\u001b[0m             \u001b[1;32mif\u001b[0m \u001b[0mmethod\u001b[0m \u001b[1;32mis\u001b[0m \u001b[1;32mnot\u001b[0m \u001b[0mNone\u001b[0m\u001b[1;33m:\u001b[0m\u001b[1;33m\u001b[0m\u001b[0m\n\u001b[1;32m--> 341\u001b[1;33m                 \u001b[1;32mreturn\u001b[0m \u001b[0mmethod\u001b[0m\u001b[1;33m(\u001b[0m\u001b[1;33m)\u001b[0m\u001b[1;33m\u001b[0m\u001b[0m\n\u001b[0m\u001b[0;32m    342\u001b[0m             \u001b[1;32mreturn\u001b[0m \u001b[0mNone\u001b[0m\u001b[1;33m\u001b[0m\u001b[0m\n\u001b[0;32m    343\u001b[0m         \u001b[1;32melse\u001b[0m\u001b[1;33m:\u001b[0m\u001b[1;33m\u001b[0m\u001b[0m\n",
      "\u001b[1;32mC:\\Users\\Angus\\Anaconda2\\lib\\site-packages\\nltk\\tree.pyc\u001b[0m in \u001b[0;36m_repr_png_\u001b[1;34m(self)\u001b[0m\n\u001b[0;32m    724\u001b[0m             \u001b[0m_canvas_frame\u001b[0m\u001b[1;33m.\u001b[0m\u001b[0mprint_to_file\u001b[0m\u001b[1;33m(\u001b[0m\u001b[0min_path\u001b[0m\u001b[1;33m)\u001b[0m\u001b[1;33m\u001b[0m\u001b[0m\n\u001b[0;32m    725\u001b[0m             \u001b[0m_canvas_frame\u001b[0m\u001b[1;33m.\u001b[0m\u001b[0mdestroy_widget\u001b[0m\u001b[1;33m(\u001b[0m\u001b[0mwidget\u001b[0m\u001b[1;33m)\u001b[0m\u001b[1;33m\u001b[0m\u001b[0m\n\u001b[1;32m--> 726\u001b[1;33m             subprocess.call([find_binary('gs', binary_names=['gswin32c.exe', 'gswin64c.exe'], env_vars=['PATH'], verbose=False)] +\n\u001b[0m\u001b[0;32m    727\u001b[0m                             \u001b[1;34m'-q -dEPSCrop -sDEVICE=png16m -r90 -dTextAlphaBits=4 -dGraphicsAlphaBits=4 -dSAFER -dBATCH -dNOPAUSE -sOutputFile={0:} {1:}'\u001b[0m\u001b[1;33m\u001b[0m\u001b[0m\n\u001b[0;32m    728\u001b[0m                             .format(out_path, in_path).split())\n",
      "\u001b[1;32mC:\\Users\\Angus\\Anaconda2\\lib\\site-packages\\nltk\\__init__.pyc\u001b[0m in \u001b[0;36mfind_binary\u001b[1;34m(name, path_to_bin, env_vars, searchpath, binary_names, url, verbose)\u001b[0m\n\u001b[0;32m    533\u001b[0m                 binary_names=None, url=None, verbose=True):\n\u001b[0;32m    534\u001b[0m     return next(find_binary_iter(name, path_to_bin, env_vars, searchpath,\n\u001b[1;32m--> 535\u001b[1;33m                                  binary_names, url, verbose))\n\u001b[0m\u001b[0;32m    536\u001b[0m \u001b[1;33m\u001b[0m\u001b[0m\n\u001b[0;32m    537\u001b[0m def find_jar_iter(name_pattern, path_to_jar=None, env_vars=(),\n",
      "\u001b[1;32mC:\\Users\\Angus\\Anaconda2\\lib\\site-packages\\nltk\\__init__.pyc\u001b[0m in \u001b[0;36mfind_binary_iter\u001b[1;34m(name, path_to_bin, env_vars, searchpath, binary_names, url, verbose)\u001b[0m\n\u001b[0;32m    527\u001b[0m     \"\"\"\n\u001b[0;32m    528\u001b[0m     for file in  find_file_iter(path_to_bin or name, env_vars, searchpath, binary_names,\n\u001b[1;32m--> 529\u001b[1;33m                      url, verbose):\n\u001b[0m\u001b[0;32m    530\u001b[0m         \u001b[1;32myield\u001b[0m \u001b[0mfile\u001b[0m\u001b[1;33m\u001b[0m\u001b[0m\n\u001b[0;32m    531\u001b[0m \u001b[1;33m\u001b[0m\u001b[0m\n",
      "\u001b[1;32mC:\\Users\\Angus\\Anaconda2\\lib\\site-packages\\nltk\\__init__.pyc\u001b[0m in \u001b[0;36mfind_file_iter\u001b[1;34m(filename, env_vars, searchpath, file_names, url, verbose, finding_dir)\u001b[0m\n\u001b[0;32m    498\u001b[0m                         (filename, url))\n\u001b[0;32m    499\u001b[0m         \u001b[0mdiv\u001b[0m \u001b[1;33m=\u001b[0m \u001b[1;34m'='\u001b[0m\u001b[1;33m*\u001b[0m\u001b[1;36m75\u001b[0m\u001b[1;33m\u001b[0m\u001b[0m\n\u001b[1;32m--> 500\u001b[1;33m         \u001b[1;32mraise\u001b[0m \u001b[0mLookupError\u001b[0m\u001b[1;33m(\u001b[0m\u001b[1;34m'\\n\\n%s\\n%s\\n%s'\u001b[0m \u001b[1;33m%\u001b[0m \u001b[1;33m(\u001b[0m\u001b[0mdiv\u001b[0m\u001b[1;33m,\u001b[0m \u001b[0mmsg\u001b[0m\u001b[1;33m,\u001b[0m \u001b[0mdiv\u001b[0m\u001b[1;33m)\u001b[0m\u001b[1;33m)\u001b[0m\u001b[1;33m\u001b[0m\u001b[0m\n\u001b[0m\u001b[0;32m    501\u001b[0m \u001b[1;33m\u001b[0m\u001b[0m\n\u001b[0;32m    502\u001b[0m \u001b[1;33m\u001b[0m\u001b[0m\n",
      "\u001b[1;31mLookupError\u001b[0m: \n\n===========================================================================\nNLTK was unable to find the gs file!\nUse software specific configuration paramaters or set the PATH environment variable.\n==========================================================================="
     ]
    },
    {
     "data": {
      "text/plain": [
       "Tree('S', [Tree('GPE', [('Ian', 'NNP')]), ('is', 'VBZ'), ('an', 'DT'), ('instructor', 'NN'), ('for', 'IN'), Tree('ORGANIZATION', [('General', 'NNP'), ('Assembly', 'NNP')])])"
      ]
     },
     "execution_count": 44,
     "metadata": {},
     "output_type": "execute_result"
    }
   ],
   "source": [
    "chunks = nltk.ne_chunk(tagged)\n",
    "\n",
    "chunks\n"
   ]
  },
  {
   "cell_type": "code",
   "execution_count": 45,
   "metadata": {
    "collapsed": false
   },
   "outputs": [
    {
     "name": "stdout",
     "output_type": "stream",
     "text": [
      "[GPE] Ian\n",
      "[ORGANIZATION] General Assembly\n"
     ]
    }
   ],
   "source": [
    "def extract_entities(text):\n",
    "    entities = []\n",
    "    # tokenize into sentences\n",
    "    for sentence in nltk.sent_tokenize(text):\n",
    "        # tokenize sentences into words\n",
    "        # add part-of-speech tags\n",
    "        # use NLTK's NER classifier\n",
    "        chunks = nltk.ne_chunk(nltk.pos_tag(nltk.word_tokenize(sentence)))\n",
    "        # parse the results\n",
    "        entities.extend([chunk for chunk in chunks if hasattr(chunk, 'label')])\n",
    "    return entities\n",
    "\n",
    "for entity in extract_entities('Ian is an instructor for General Assembly'):\n",
    "    print '[' + entity.label() + '] ' + ' '.join(c[0] for c in entity.leaves())"
   ]
  },
  {
   "cell_type": "markdown",
   "metadata": {},
   "source": [
    "###Term Frequency - Inverse Document Frequency (TF-IDF)\n",
    "\n",
    "What:  Computes \"relative frequency\" that a word appears in a document\n",
    "           compared to its frequency across all documents\n",
    "\n",
    "Why:   More useful than \"term frequency\" for identifying \"important\" words in\n",
    "           each document (high frequency in that document, low frequency in\n",
    "           other documents)\n",
    "\n",
    "Notes: Used for search engine scoring, text summarization, document clustering\n",
    "\n",
    "How: \n",
    "    TF(t) = (Number of times term t appears in a document) / (Total number of terms in the document).\n",
    "    IDF(t) = log_e(Total number of documents / Number of documents with term t in it)."
   ]
  },
  {
   "cell_type": "code",
   "execution_count": null,
   "metadata": {
    "collapsed": true
   },
   "outputs": [],
   "source": [
    "sample = ['Bob likes sports', 'Bob hates sports', 'Bob likes likes trees']\n",
    "\n",
    "import numpy as np\n",
    "from sklearn.feature_extraction.text import CountVectorizer\n",
    "\n",
    "vect = CountVectorizer()\n"
   ]
  },
  {
   "cell_type": "code",
   "execution_count": null,
   "metadata": {
    "collapsed": true
   },
   "outputs": [],
   "source": [
    "# Each row represents a sentence\n",
    "# Each column represents a word\n",
    "vect.fit_transform(sample).toarray()\n",
    "vect.get_feature_names()\n"
   ]
  },
  {
   "cell_type": "code",
   "execution_count": null,
   "metadata": {
    "collapsed": true
   },
   "outputs": [],
   "source": [
    "from sklearn.feature_extraction.text import TfidfVectorizer\n",
    "tfidf = TfidfVectorizer()\n",
    "tfidf.fit_transform(sample).toarray()\n",
    "tfidf.get_feature_names()\n"
   ]
  },
  {
   "cell_type": "code",
   "execution_count": null,
   "metadata": {
    "collapsed": true
   },
   "outputs": [],
   "source": [
    "# the IDF of each word\n",
    "idf = tfidf.idf_\n",
    "print dict(zip(tfidf.get_feature_names(), idf))\n"
   ]
  },
  {
   "cell_type": "code",
   "execution_count": null,
   "metadata": {
    "collapsed": true
   },
   "outputs": [],
   "source": [
    "###############\n",
    "## Exercise ###\n",
    "###############\n",
    "\n",
    "\n",
    "# for each sentence in sample, find the most \"interesting \n",
    "#words\" by ordering their tfidf in ascending order\n"
   ]
  },
  {
   "cell_type": "markdown",
   "metadata": {},
   "source": [
    "###LDA - Latent Dirichlet Allocation\n",
    "\n",
    "What:  Way of automatically discovering topics from sentences\n",
    "\n",
    "Why:   Much quicker than manually creating and identifying topic clusters"
   ]
  },
  {
   "cell_type": "code",
   "execution_count": null,
   "metadata": {
    "collapsed": true
   },
   "outputs": [],
   "source": [
    "import lda\n",
    "\n",
    "# Instantiate a count vectorizer with two additional parameters\n",
    "vect = CountVectorizer(stop_words='english', ngram_range=[1,3]) \n",
    "sentences_train = vect.fit_transform(sentences)\n"
   ]
  },
  {
   "cell_type": "code",
   "execution_count": null,
   "metadata": {
    "collapsed": true
   },
   "outputs": [],
   "source": [
    "# Instantiate an LDA model\n",
    "model = lda.LDA(n_topics=10, n_iter=500)\n",
    "model.fit(sentences_train) # Fit the model \n",
    "n_top_words = 10\n",
    "topic_word = model.topic_word_\n",
    "for i, topic_dist in enumerate(topic_word):\n",
    "    topic_words = np.array(vect.get_feature_names())[np.argsort(topic_dist)][:-n_top_words:-1]\n",
    "    print('Topic {}: {}'.format(i, ', '.join(topic_words)))\n"
   ]
  },
  {
   "cell_type": "code",
   "execution_count": null,
   "metadata": {
    "collapsed": true
   },
   "outputs": [],
   "source": [
    "# EXAMPLE: Automatically summarize a document\n",
    "\n",
    "\n",
    "# corpus of 2000 movie reviews\n",
    "from nltk.corpus import movie_reviews\n",
    "reviews = [movie_reviews.raw(filename) for filename in movie_reviews.fileids()]\n"
   ]
  },
  {
   "cell_type": "code",
   "execution_count": null,
   "metadata": {
    "collapsed": true
   },
   "outputs": [],
   "source": [
    "# create document-term matrix\n",
    "tfidf = TfidfVectorizer(stop_words='english')\n",
    "dtm = tfidf.fit_transform(reviews)\n",
    "features = tfidf.get_feature_names()"
   ]
  },
  {
   "cell_type": "code",
   "execution_count": null,
   "metadata": {
    "collapsed": true
   },
   "outputs": [],
   "source": [
    "import numpy as np\n"
   ]
  },
  {
   "cell_type": "code",
   "execution_count": null,
   "metadata": {
    "collapsed": true
   },
   "outputs": [],
   "source": [
    "# find the most and least \"interesting\" sentences in a randomly selected review\n",
    "def summarize():\n",
    "    \n",
    "    # choose a random movie review    \n",
    "    review_id = np.random.randint(0, len(reviews))\n",
    "    review_text = reviews[review_id]\n",
    "\n",
    "    # we are going to score each sentence in the review for \"interesting-ness\"\n",
    "    sent_scores = []\n",
    "    # tokenize document into sentences\n",
    "    for sentence in nltk.sent_tokenize(review_text):\n",
    "        # exclude short sentences\n",
    "        if len(sentence) > 6:\n",
    "            score = 0\n",
    "            token_count = 0\n",
    "            # tokenize sentence into words\n",
    "            tokens = nltk.word_tokenize(sentence)\n",
    "            # compute sentence \"score\" by summing TFIDF for each word\n",
    "            for token in tokens:\n",
    "                if token in features:\n",
    "                    score += dtm[review_id, features.index(token)]\n",
    "                    token_count += 1\n",
    "            # divide score by number of tokens\n",
    "            sent_scores.append((score / float(token_count + 1), sentence))\n",
    "\n",
    "    # lowest scoring sentences\n",
    "    print '\\nLOWEST:\\n'\n",
    "    for sent_score in sorted(sent_scores)[:3]:\n",
    "        print sent_score[1]\n",
    "\n",
    "    # highest scoring sentences\n",
    "    print '\\nHIGHEST:\\n'\n",
    "    for sent_score in sorted(sent_scores, reverse=True)[:3]:\n",
    "        print sent_score[1]\n",
    "\n",
    "# try it out!\n",
    "summarize()"
   ]
  },
  {
   "cell_type": "code",
   "execution_count": null,
   "metadata": {
    "collapsed": true
   },
   "outputs": [],
   "source": [
    "# TextBlob Demo: \"Simplified Text Processing\"\n",
    "# Installation: pip install textblob\n",
    "! pip install textblob"
   ]
  },
  {
   "cell_type": "code",
   "execution_count": null,
   "metadata": {
    "collapsed": true
   },
   "outputs": [],
   "source": [
    "from textblob import TextBlob, Word"
   ]
  },
  {
   "cell_type": "code",
   "execution_count": null,
   "metadata": {
    "collapsed": true
   },
   "outputs": [],
   "source": [
    "# identify words and noun phrases\n",
    "blob = TextBlob('Liam and Sinan are instructors for General Assembly')\n",
    "blob.words\n",
    "blob.noun_phrases"
   ]
  },
  {
   "cell_type": "code",
   "execution_count": null,
   "metadata": {
    "collapsed": true
   },
   "outputs": [],
   "source": [
    "# sentiment analysis\n",
    "blob = TextBlob('I hate this horrible movie. This movie is not very good.')\n",
    "blob.sentences\n",
    "blob.sentiment.polarity\n",
    "[sent.sentiment.polarity for sent in blob.sentences]"
   ]
  },
  {
   "cell_type": "code",
   "execution_count": null,
   "metadata": {
    "collapsed": true
   },
   "outputs": [],
   "source": [
    "# sentiment subjectivity\n",
    "TextBlob(\"I am a cool person\").sentiment.subjectivity # Pretty subjective\n",
    "TextBlob(\"I am a person\").sentiment.subjectivity # Pretty objective\n",
    "# different scores for essentially the same sentence\n",
    "print TextBlob('Ian and Alasdair are instructors for General Assembly in Sydney').sentiment.subjectivity\n",
    "\n"
   ]
  },
  {
   "cell_type": "code",
   "execution_count": null,
   "metadata": {
    "collapsed": true
   },
   "outputs": [],
   "source": [
    "# singularize and pluralize\n",
    "blob = TextBlob('Put away the dishes.')\n",
    "[word.singularize() for word in blob.words]"
   ]
  },
  {
   "cell_type": "code",
   "execution_count": null,
   "metadata": {
    "collapsed": true
   },
   "outputs": [],
   "source": [
    "[word.pluralize() for word in blob.words]\n"
   ]
  },
  {
   "cell_type": "code",
   "execution_count": null,
   "metadata": {
    "collapsed": true
   },
   "outputs": [],
   "source": [
    "# spelling correction\n",
    "blob = TextBlob('15 minuets late')\n",
    "blob.correct()"
   ]
  },
  {
   "cell_type": "code",
   "execution_count": null,
   "metadata": {
    "collapsed": true
   },
   "outputs": [],
   "source": [
    "# spellcheck\n",
    "Word('parot').spellcheck()\n"
   ]
  },
  {
   "cell_type": "code",
   "execution_count": null,
   "metadata": {
    "collapsed": true
   },
   "outputs": [],
   "source": [
    "# definitions\n",
    "Word('bank').define()\n",
    "Word('bank').define('v')"
   ]
  },
  {
   "cell_type": "code",
   "execution_count": null,
   "metadata": {
    "collapsed": true
   },
   "outputs": [],
   "source": [
    "# translation and language identification\n",
    "blob = TextBlob('Welcome to the classroom.')\n",
    "blob.translate(to='es')\n",
    "blob = TextBlob('Hola amigos')\n",
    "blob.detect_language()"
   ]
  },
  {
   "cell_type": "code",
   "execution_count": null,
   "metadata": {
    "collapsed": true
   },
   "outputs": [],
   "source": []
  }
 ],
 "metadata": {
  "kernelspec": {
   "display_name": "Python 2",
   "language": "python",
   "name": "python2"
  },
  "language_info": {
   "codemirror_mode": {
    "name": "ipython",
    "version": 2
   },
   "file_extension": ".py",
   "mimetype": "text/x-python",
   "name": "python",
   "nbconvert_exporter": "python",
   "pygments_lexer": "ipython2",
   "version": "2.7.10"
  }
 },
 "nbformat": 4,
 "nbformat_minor": 0
}
