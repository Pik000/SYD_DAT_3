{
 "cells": [
  {
   "cell_type": "markdown",
   "metadata": {},
   "source": [
    "# SQL (MySQL)\n",
    "\n",
    "### To be a good data scientist you will need some SQL skills. Below is some example SQL code to run in the Database Client.\n",
    "\n",
    "### If you have a good working knowledge of SQL already, setup an RDS instance on AWS and load in the titanic dataset. \n",
    "http://docs.aws.amazon.com/AmazonRDS/latest/UserGuide/CHAP_GettingStarted.html"
   ]
  },
  {
   "cell_type": "code",
   "execution_count": 2,
   "metadata": {
    "collapsed": false
   },
   "outputs": [
    {
     "ename": "SyntaxError",
     "evalue": "invalid syntax (<ipython-input-2-23998d44c64b>, line 1)",
     "output_type": "error",
     "traceback": [
      "\u001b[0;36m  File \u001b[0;32m\"<ipython-input-2-23998d44c64b>\"\u001b[0;36m, line \u001b[0;32m1\u001b[0m\n\u001b[0;31m    *(The, SELECT, Statement, */)\u001b[0m\n\u001b[0m    ^\u001b[0m\n\u001b[0;31mSyntaxError\u001b[0m\u001b[0;31m:\u001b[0m invalid syntax\n"
     ]
    }
   ],
   "source": [
    "/* The SELECT Statement */\n",
    "USE classicmodels;\n",
    "\n",
    "SELECT * FROM employees;\n",
    "\n",
    "\n",
    "SELECT lastname,\n",
    "       firstname,\n",
    "       jobtitle\n",
    "FROM employees;\n",
    "\n",
    "/* Also select the extension column from the employee table */\n",
    "\n"
   ]
  },
  {
   "cell_type": "code",
   "execution_count": 3,
   "metadata": {
    "collapsed": false
   },
   "outputs": [
    {
     "ename": "SyntaxError",
     "evalue": "invalid syntax (<ipython-input-3-a521583db776>, line 2)",
     "output_type": "error",
     "traceback": [
      "\u001b[0;36m  File \u001b[0;32m\"<ipython-input-3-a521583db776>\"\u001b[0;36m, line \u001b[0;32m2\u001b[0m\n\u001b[0;31m    *(The, WHERE, clause, */)\u001b[0m\n\u001b[0m    ^\u001b[0m\n\u001b[0;31mSyntaxError\u001b[0m\u001b[0;31m:\u001b[0m invalid syntax\n"
     ]
    }
   ],
   "source": [
    "\n",
    "/* The WHERE clause */\n",
    "SELECT * \n",
    "FROM employees\n",
    "WHERE jobTitle = 'President';\n",
    "\n",
    "/*\n",
    "- Get all of the employees that are Sales Reps\n",
    "- Get all the employees that report to ‘1143’ \n",
    "*/\n",
    "\n",
    "\n"
   ]
  },
  {
   "cell_type": "code",
   "execution_count": 4,
   "metadata": {
    "collapsed": false
   },
   "outputs": [
    {
     "ename": "SyntaxError",
     "evalue": "invalid syntax (<ipython-input-4-cc1db5c0f820>, line 1)",
     "output_type": "error",
     "traceback": [
      "\u001b[0;36m  File \u001b[0;32m\"<ipython-input-4-cc1db5c0f820>\"\u001b[0;36m, line \u001b[0;32m1\u001b[0m\n\u001b[0;31m    *()\u001b[0m\n\u001b[0m    ^\u001b[0m\n\u001b[0;31mSyntaxError\u001b[0m\u001b[0;31m:\u001b[0m invalid syntax\n"
     ]
    }
   ],
   "source": [
    "/*\n",
    "- Return all employees that report to 1143 and have an office code 1\n",
    "- Return all employees that report to 1143 or have an office code 1\n",
    "*/\n",
    "\n"
   ]
  },
  {
   "cell_type": "code",
   "execution_count": 5,
   "metadata": {
    "collapsed": false
   },
   "outputs": [
    {
     "ename": "SyntaxError",
     "evalue": "invalid syntax (<ipython-input-5-918bf7b7d2a2>, line 1)",
     "output_type": "error",
     "traceback": [
      "\u001b[0;36m  File \u001b[0;32m\"<ipython-input-5-918bf7b7d2a2>\"\u001b[0;36m, line \u001b[0;32m1\u001b[0m\n\u001b[0;31m    *(The, ORDER, BY, Clause, */)\u001b[0m\n\u001b[0m    ^\u001b[0m\n\u001b[0;31mSyntaxError\u001b[0m\u001b[0;31m:\u001b[0m invalid syntax\n"
     ]
    }
   ],
   "source": [
    "/* The ORDER BY Clause */\n",
    "\n",
    "SELECT * \n",
    "FROM products\n",
    "ORDER BY buyPrice;\n",
    "\n",
    "/*\n",
    "Try and order the list by the most expensive to cheapest by typing ‘DESC’ after buyPrice \n",
    "*/\n",
    "\n"
   ]
  },
  {
   "cell_type": "code",
   "execution_count": 6,
   "metadata": {
    "collapsed": false
   },
   "outputs": [
    {
     "ename": "SyntaxError",
     "evalue": "invalid syntax (<ipython-input-6-994a9c34f2b0>, line 1)",
     "output_type": "error",
     "traceback": [
      "\u001b[0;36m  File \u001b[0;32m\"<ipython-input-6-994a9c34f2b0>\"\u001b[0;36m, line \u001b[0;32m1\u001b[0m\n\u001b[0;31m    *(The, GROUP, BY, Clause, */)\u001b[0m\n\u001b[0m    ^\u001b[0m\n\u001b[0;31mSyntaxError\u001b[0m\u001b[0;31m:\u001b[0m invalid syntax\n"
     ]
    }
   ],
   "source": [
    "/* The GROUP BY Clause */\n",
    "SELECT productLine\n",
    "FROM products;\n",
    "\n",
    "/* \n",
    "This returns the product line for every single row in the product table. Let’s try grouping them. \n",
    "*/\n",
    "\n"
   ]
  },
  {
   "cell_type": "code",
   "execution_count": null,
   "metadata": {
    "collapsed": true
   },
   "outputs": [],
   "source": [
    "/*This returns the unique values of the product line. How many different products do they have in each product line? */\n",
    "SELECT productLine, count(*)\n",
    "FROM products\n",
    "GROUP BY productLine;\n",
    "\n",
    "/* The JOIN Statement */\n",
    "SELECT c.customerNumber,\n",
    "       c.customerName,\n",
    "       orderNumber, \n",
    "       o.status\n",
    "FROM customers AS c\n",
    "LEFT JOIN orders AS o ON c.customerNumber = o.customerNumber"
   ]
  }
 ],
 "metadata": {
  "kernelspec": {
   "display_name": "Python 2",
   "language": "python",
   "name": "python2"
  },
  "language_info": {
   "codemirror_mode": {
    "name": "ipython",
    "version": 2
   },
   "file_extension": ".py",
   "mimetype": "text/x-python",
   "name": "python",
   "nbconvert_exporter": "python",
   "pygments_lexer": "ipython2",
   "version": "2.7.10"
  }
 },
 "nbformat": 4,
 "nbformat_minor": 0
}
